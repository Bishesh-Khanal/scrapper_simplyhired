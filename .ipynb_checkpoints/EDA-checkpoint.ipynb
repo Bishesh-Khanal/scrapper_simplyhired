{
 "cells": [
  {
   "cell_type": "code",
   "execution_count": 1,
   "id": "9f3759b1",
   "metadata": {},
   "outputs": [],
   "source": [
    "import pandas as pd\n",
    "import matplotlib.pyplot as plt\n",
    "import seaborn as sns"
   ]
  },
  {
   "cell_type": "code",
   "execution_count": 2,
   "id": "7c48d4c3",
   "metadata": {},
   "outputs": [],
   "source": [
    "df = pd.read_csv('jobs_cleaned.csv')"
   ]
  },
  {
   "cell_type": "code",
   "execution_count": 3,
   "id": "c388fc94",
   "metadata": {},
   "outputs": [
    {
     "name": "stdout",
     "output_type": "stream",
     "text": [
      "https://www.simplyhired.com/job/pE0v8mYHrd0RXVmO53atqpCsPI2do0QN_Zucty6jiJwF1VYkxeEhrQ    1\n",
      "https://www.simplyhired.com/job/0Fjci6UUkCtMofB5LleoAan0f1zwkbGDgkB8UbgtPPd-rQxMOr63iQ    1\n",
      "https://www.simplyhired.com/job/Igy3t7J3NG-SpHDqSttWLJ2cUhM0jx7jTTfMHrFJLsCTo5faYUbKEA    1\n",
      "https://www.simplyhired.com/job/sM0D-QL-1Sy3d73jTt7kGdKreMmouSCUSiY7SyVfmUcWFWAjynxREg    1\n",
      "https://www.simplyhired.com/job/5qIrxo4hQfsrOLtwFoEMmxRzBhaZBBGLmh-IH7WpCMXaDFoYfjDvxA    1\n",
      "                                                                                         ..\n",
      "https://www.simplyhired.com/job/Qufw1EkjlKyfzNviSSkur0UKjEbyM5sXmrc3TORelUa-ezjyvNZxSw    1\n",
      "https://www.simplyhired.com/job/vstX49b00p83G3ReRtSZ36TBJlvpUeLT384rOX184blTDZFvn0xx7A    1\n",
      "https://www.simplyhired.com/job/f8_rtqsgIiK4M_vMdoJUFT_mGr_wl84zkdubxoyrlOsIjMg9d99q7g    1\n",
      "https://www.simplyhired.com/job/18AaoN0NZLBI3005Z-W5cM5mtZMzY1TmL200SQxnki6u4L15UAyz1w    1\n",
      "https://www.simplyhired.com/job/v3-rTTCA2G5Qo2KfJ-HDaJhLw1KkZTEJI7e5WSqgT5eefNBNTIerSA    1\n",
      "Name: Job Link, Length: 935, dtype: int64\n"
     ]
    }
   ],
   "source": [
    "print(df['Job Link'].value_counts())"
   ]
  },
  {
   "cell_type": "code",
   "execution_count": 4,
   "id": "dbcd8b89",
   "metadata": {},
   "outputs": [
    {
     "name": "stdout",
     "output_type": "stream",
     "text": [
      "Synovize                   21\n",
      "PAYLOCITY CORPORATION       9\n",
      "Meta                        8\n",
      "B.E.A.T. LLC                6\n",
      "KesarWeb                    5\n",
      "                           ..\n",
      "AlignRx LLC                 1\n",
      "Kaimetrix                   1\n",
      "HomeServices of America     1\n",
      "Agero                       1\n",
      "Alderon Games               1\n",
      "Name: Company, Length: 760, dtype: int64\n"
     ]
    }
   ],
   "source": [
    "print(df['Company'].value_counts())"
   ]
  },
  {
   "cell_type": "code",
   "execution_count": null,
   "id": "734035b5",
   "metadata": {},
   "outputs": [],
   "source": [
    "print(df['Job'].value_counts())"
   ]
  }
 ],
 "metadata": {
  "kernelspec": {
   "display_name": "Python 3 (ipykernel)",
   "language": "python",
   "name": "python3"
  },
  "language_info": {
   "codemirror_mode": {
    "name": "ipython",
    "version": 3
   },
   "file_extension": ".py",
   "mimetype": "text/x-python",
   "name": "python",
   "nbconvert_exporter": "python",
   "pygments_lexer": "ipython3",
   "version": "3.10.9"
  }
 },
 "nbformat": 4,
 "nbformat_minor": 5
}
