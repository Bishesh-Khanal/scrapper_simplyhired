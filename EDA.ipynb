{
 "cells": [
  {
   "cell_type": "code",
   "execution_count": 1,
   "id": "db610dd9",
   "metadata": {},
   "outputs": [],
   "source": [
    "import pandas as pd\n",
    "import matplotlib.pyplot as plt\n",
    "import seaborn as sns"
   ]
  },
  {
   "cell_type": "code",
   "execution_count": 2,
   "id": "31d64e91",
   "metadata": {},
   "outputs": [],
   "source": [
    "df = pd.read_csv('jobs_cleaned.csv')"
   ]
  },
  {
   "cell_type": "code",
   "execution_count": 3,
   "id": "63ffe992",
   "metadata": {},
   "outputs": [
    {
     "name": "stdout",
     "output_type": "stream",
     "text": [
      "https://www.simplyhired.com/job/pE0v8mYHrd0RXVmO53atqpCsPI2do0QN_Zucty6jiJwF1VYkxeEhrQ    1\n",
      "https://www.simplyhired.com/job/0Fjci6UUkCtMofB5LleoAan0f1zwkbGDgkB8UbgtPPd-rQxMOr63iQ    1\n",
      "https://www.simplyhired.com/job/Igy3t7J3NG-SpHDqSttWLJ2cUhM0jx7jTTfMHrFJLsCTo5faYUbKEA    1\n",
      "https://www.simplyhired.com/job/sM0D-QL-1Sy3d73jTt7kGdKreMmouSCUSiY7SyVfmUcWFWAjynxREg    1\n",
      "https://www.simplyhired.com/job/5qIrxo4hQfsrOLtwFoEMmxRzBhaZBBGLmh-IH7WpCMXaDFoYfjDvxA    1\n",
      "                                                                                         ..\n",
      "https://www.simplyhired.com/job/Qufw1EkjlKyfzNviSSkur0UKjEbyM5sXmrc3TORelUa-ezjyvNZxSw    1\n",
      "https://www.simplyhired.com/job/vstX49b00p83G3ReRtSZ36TBJlvpUeLT384rOX184blTDZFvn0xx7A    1\n",
      "https://www.simplyhired.com/job/f8_rtqsgIiK4M_vMdoJUFT_mGr_wl84zkdubxoyrlOsIjMg9d99q7g    1\n",
      "https://www.simplyhired.com/job/18AaoN0NZLBI3005Z-W5cM5mtZMzY1TmL200SQxnki6u4L15UAyz1w    1\n",
      "https://www.simplyhired.com/job/v3-rTTCA2G5Qo2KfJ-HDaJhLw1KkZTEJI7e5WSqgT5eefNBNTIerSA    1\n",
      "Name: Job Link, Length: 935, dtype: int64\n"
     ]
    }
   ],
   "source": [
    "print(df['Job Link'].value_counts())"
   ]
  },
  {
   "cell_type": "code",
   "execution_count": 4,
   "id": "382a9c1a",
   "metadata": {},
   "outputs": [
    {
     "name": "stdout",
     "output_type": "stream",
     "text": [
      "Synovize                   21\n",
      "PAYLOCITY CORPORATION       9\n",
      "Meta                        8\n",
      "B.E.A.T. LLC                6\n",
      "KesarWeb                    5\n",
      "                           ..\n",
      "AlignRx LLC                 1\n",
      "Kaimetrix                   1\n",
      "HomeServices of America     1\n",
      "Agero                       1\n",
      "Alderon Games               1\n",
      "Name: Company, Length: 760, dtype: int64\n"
     ]
    }
   ],
   "source": [
    "print(df['Company'].value_counts())"
   ]
  },
  {
   "cell_type": "code",
   "execution_count": 5,
   "id": "7f3c4ef2",
   "metadata": {},
   "outputs": [
    {
     "name": "stdout",
     "output_type": "stream",
     "text": [
      "Software Engineer                                                32\n",
      "Data Engineer                                                    25\n",
      "Data Analyst                                                     13\n",
      "Software Developer                                               10\n",
      "Quality Assurance Engineer                                        8\n",
      "                                                                 ..\n",
      "Integration Analyst                                               1\n",
      "Part-Time Student-Product Engineering-Fargo ND-Partial Remote     1\n",
      "HEDIS Data Analyst                                                1\n",
      "Software Quality Engineer (Remote)                                1\n",
      "NodeJS Developer (Electron)                                       1\n",
      "Name: Job, Length: 757, dtype: int64\n"
     ]
    }
   ],
   "source": [
    "print(df['Job'].value_counts())"
   ]
  },
  {
   "cell_type": "code",
   "execution_count": 10,
   "id": "bc4fce7e",
   "metadata": {},
   "outputs": [
    {
     "name": "stdout",
     "output_type": "stream",
     "text": [
      "       Unnamed: 0   Salary_Begin     Salary_End      Hourly     Monthly  \\\n",
      "count   935.00000     871.000000     884.000000  901.000000  901.000000   \n",
      "mean    467.00000   77433.087222  100426.880962    0.093230    0.002220   \n",
      "std     270.05555   34492.959598   46648.220778    0.290916    0.047088   \n",
      "min       0.00000      10.000000      15.000000    0.000000    0.000000   \n",
      "25%     233.50000   62000.000000   80000.000000    0.000000    0.000000   \n",
      "50%     467.00000   80000.000000  102117.000000    0.000000    0.000000   \n",
      "75%     700.50000   95650.000000  124000.000000    0.000000    0.000000   \n",
      "max     934.00000  220000.000000  300000.000000    1.000000    1.000000   \n",
      "\n",
      "           Yearly      Rating  Posted_Date  Posted_Month  \n",
      "count  901.000000  664.000000   453.000000    453.000000  \n",
      "mean     0.904550    3.601807    14.807947      9.536424  \n",
      "std      0.293998    0.780260    11.035371      0.499223  \n",
      "min      0.000000    1.000000     1.000000      9.000000  \n",
      "25%      1.000000    3.200000     5.000000      9.000000  \n",
      "50%      1.000000    3.700000     6.000000     10.000000  \n",
      "75%      1.000000    4.000000    27.000000     10.000000  \n",
      "max      1.000000    5.000000    30.000000     10.000000  \n"
     ]
    }
   ],
   "source": [
    "print(df.describe())"
   ]
  },
  {
   "cell_type": "code",
   "execution_count": null,
   "id": "edaefe98",
   "metadata": {},
   "outputs": [],
   "source": []
  }
 ],
 "metadata": {
  "kernelspec": {
   "display_name": "Python 3 (ipykernel)",
   "language": "python",
   "name": "python3"
  },
  "language_info": {
   "codemirror_mode": {
    "name": "ipython",
    "version": 3
   },
   "file_extension": ".py",
   "mimetype": "text/x-python",
   "name": "python",
   "nbconvert_exporter": "python",
   "pygments_lexer": "ipython3",
   "version": "3.10.9"
  }
 },
 "nbformat": 4,
 "nbformat_minor": 5
}
