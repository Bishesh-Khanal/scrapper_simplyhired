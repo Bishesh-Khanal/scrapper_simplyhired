{
 "cells": [
  {
   "cell_type": "code",
   "execution_count": 219,
   "id": "db610dd9",
   "metadata": {},
   "outputs": [],
   "source": [
    "import pandas as pd\n",
    "import matplotlib.pyplot as plt\n",
    "import seaborn as sns"
   ]
  },
  {
   "cell_type": "code",
   "execution_count": 220,
   "id": "31d64e91",
   "metadata": {},
   "outputs": [],
   "source": [
    "df = pd.read_csv('jobs_cleaned.csv')"
   ]
  },
  {
   "cell_type": "code",
   "execution_count": 221,
   "id": "edaefe98",
   "metadata": {},
   "outputs": [],
   "source": [
    "del df['Unnamed: 0']"
   ]
  },
  {
   "cell_type": "code",
   "execution_count": 222,
   "id": "1a4997b3",
   "metadata": {},
   "outputs": [
    {
     "data": {
      "text/html": [
       "<div>\n",
       "<style scoped>\n",
       "    .dataframe tbody tr th:only-of-type {\n",
       "        vertical-align: middle;\n",
       "    }\n",
       "\n",
       "    .dataframe tbody tr th {\n",
       "        vertical-align: top;\n",
       "    }\n",
       "\n",
       "    .dataframe thead th {\n",
       "        text-align: right;\n",
       "    }\n",
       "</style>\n",
       "<table border=\"1\" class=\"dataframe\">\n",
       "  <thead>\n",
       "    <tr style=\"text-align: right;\">\n",
       "      <th></th>\n",
       "      <th>Job</th>\n",
       "      <th>Salary_Begin</th>\n",
       "      <th>Salary_End</th>\n",
       "      <th>Hourly</th>\n",
       "      <th>Monthly</th>\n",
       "      <th>Yearly</th>\n",
       "      <th>Company</th>\n",
       "      <th>Rating</th>\n",
       "      <th>Posted_Date</th>\n",
       "      <th>Posted_Month</th>\n",
       "      <th>Type</th>\n",
       "      <th>Benefits</th>\n",
       "      <th>Qualifications</th>\n",
       "      <th>Job Link</th>\n",
       "    </tr>\n",
       "  </thead>\n",
       "  <tbody>\n",
       "    <tr>\n",
       "      <th>0</th>\n",
       "      <td>21 - Desktop Support Technician</td>\n",
       "      <td>16.0</td>\n",
       "      <td>39.0</td>\n",
       "      <td>1.0</td>\n",
       "      <td>0.0</td>\n",
       "      <td>0.0</td>\n",
       "      <td>PayPal</td>\n",
       "      <td>3.9</td>\n",
       "      <td>26.0</td>\n",
       "      <td>9.0</td>\n",
       "      <td>Full-time</td>\n",
       "      <td>Health insurance, Dental insurance, Vision ins...</td>\n",
       "      <td>MCITP, Computer Science, MCP, MCSE, Bachelor's...</td>\n",
       "      <td>https://www.simplyhired.com/job/pE0v8mYHrd0RXV...</td>\n",
       "    </tr>\n",
       "    <tr>\n",
       "      <th>1</th>\n",
       "      <td>Operations Associate (entry-level)</td>\n",
       "      <td>60000.0</td>\n",
       "      <td>80000.0</td>\n",
       "      <td>0.0</td>\n",
       "      <td>0.0</td>\n",
       "      <td>1.0</td>\n",
       "      <td>Databento</td>\n",
       "      <td>NaN</td>\n",
       "      <td>NaN</td>\n",
       "      <td>NaN</td>\n",
       "      <td>NaN</td>\n",
       "      <td>Disability insurance, Health insurance, Dental...</td>\n",
       "      <td>Lever, Sales, Marketing, Writing skills, ATS, ...</td>\n",
       "      <td>https://www.simplyhired.com/job/UhRG9kuufwPfvq...</td>\n",
       "    </tr>\n",
       "    <tr>\n",
       "      <th>2</th>\n",
       "      <td>IT Helpdesk Remote Support; Support Specialist I</td>\n",
       "      <td>35100.0</td>\n",
       "      <td>44500.0</td>\n",
       "      <td>0.0</td>\n",
       "      <td>0.0</td>\n",
       "      <td>1.0</td>\n",
       "      <td>Liberty University</td>\n",
       "      <td>3.8</td>\n",
       "      <td>NaN</td>\n",
       "      <td>NaN</td>\n",
       "      <td>Full-time</td>\n",
       "      <td>NaN</td>\n",
       "      <td>Microsoft Powerpoint, Microsoft Word, Computer...</td>\n",
       "      <td>https://www.simplyhired.com/job/G03Xkf3I0D3Xng...</td>\n",
       "    </tr>\n",
       "    <tr>\n",
       "      <th>3</th>\n",
       "      <td>IT Support Specialist II - $5000 - Remote</td>\n",
       "      <td>NaN</td>\n",
       "      <td>5000.0</td>\n",
       "      <td>0.0</td>\n",
       "      <td>1.0</td>\n",
       "      <td>0.0</td>\n",
       "      <td>Gold Alliance</td>\n",
       "      <td>4.7</td>\n",
       "      <td>4.0</td>\n",
       "      <td>10.0</td>\n",
       "      <td>Full-time</td>\n",
       "      <td>Health insurance, 401(k), Paid time off, On-th...</td>\n",
       "      <td>Azure, Management, Computer Science, Software ...</td>\n",
       "      <td>https://www.simplyhired.com/job/5wPI9EftH0tZxN...</td>\n",
       "    </tr>\n",
       "    <tr>\n",
       "      <th>4</th>\n",
       "      <td>IT Help Desk Technician</td>\n",
       "      <td>41700.0</td>\n",
       "      <td>52800.0</td>\n",
       "      <td>0.0</td>\n",
       "      <td>0.0</td>\n",
       "      <td>1.0</td>\n",
       "      <td>Advanced Computer Solutions</td>\n",
       "      <td>5.0</td>\n",
       "      <td>NaN</td>\n",
       "      <td>NaN</td>\n",
       "      <td>Full-time</td>\n",
       "      <td>NaN</td>\n",
       "      <td>Software troubleshooting, Bachelor of Science,...</td>\n",
       "      <td>https://www.simplyhired.com/job/9kinGpt9ZFmjYb...</td>\n",
       "    </tr>\n",
       "  </tbody>\n",
       "</table>\n",
       "</div>"
      ],
      "text/plain": [
       "                                                Job  Salary_Begin  Salary_End  \\\n",
       "0                   21 - Desktop Support Technician          16.0        39.0   \n",
       "1                Operations Associate (entry-level)       60000.0     80000.0   \n",
       "2  IT Helpdesk Remote Support; Support Specialist I       35100.0     44500.0   \n",
       "3         IT Support Specialist II - $5000 - Remote           NaN      5000.0   \n",
       "4                           IT Help Desk Technician       41700.0     52800.0   \n",
       "\n",
       "   Hourly  Monthly  Yearly                      Company  Rating  Posted_Date  \\\n",
       "0     1.0      0.0     0.0                       PayPal     3.9         26.0   \n",
       "1     0.0      0.0     1.0                    Databento     NaN          NaN   \n",
       "2     0.0      0.0     1.0           Liberty University     3.8          NaN   \n",
       "3     0.0      1.0     0.0                Gold Alliance     4.7          4.0   \n",
       "4     0.0      0.0     1.0  Advanced Computer Solutions     5.0          NaN   \n",
       "\n",
       "   Posted_Month       Type                                           Benefits  \\\n",
       "0           9.0  Full-time  Health insurance, Dental insurance, Vision ins...   \n",
       "1           NaN        NaN  Disability insurance, Health insurance, Dental...   \n",
       "2           NaN  Full-time                                                NaN   \n",
       "3          10.0  Full-time  Health insurance, 401(k), Paid time off, On-th...   \n",
       "4           NaN  Full-time                                                NaN   \n",
       "\n",
       "                                      Qualifications  \\\n",
       "0  MCITP, Computer Science, MCP, MCSE, Bachelor's...   \n",
       "1  Lever, Sales, Marketing, Writing skills, ATS, ...   \n",
       "2  Microsoft Powerpoint, Microsoft Word, Computer...   \n",
       "3  Azure, Management, Computer Science, Software ...   \n",
       "4  Software troubleshooting, Bachelor of Science,...   \n",
       "\n",
       "                                            Job Link  \n",
       "0  https://www.simplyhired.com/job/pE0v8mYHrd0RXV...  \n",
       "1  https://www.simplyhired.com/job/UhRG9kuufwPfvq...  \n",
       "2  https://www.simplyhired.com/job/G03Xkf3I0D3Xng...  \n",
       "3  https://www.simplyhired.com/job/5wPI9EftH0tZxN...  \n",
       "4  https://www.simplyhired.com/job/9kinGpt9ZFmjYb...  "
      ]
     },
     "metadata": {},
     "output_type": "display_data"
    }
   ],
   "source": [
    "display(df.head())"
   ]
  },
  {
   "cell_type": "code",
   "execution_count": 223,
   "id": "87aeca29",
   "metadata": {},
   "outputs": [
    {
     "name": "stdout",
     "output_type": "stream",
     "text": [
      "Software Engineer                                                32\n",
      "Data Engineer                                                    25\n",
      "Data Analyst                                                     13\n",
      "Software Developer                                               10\n",
      "Quality Assurance Engineer                                        8\n",
      "                                                                 ..\n",
      "Integration Analyst                                               1\n",
      "Part-Time Student-Product Engineering-Fargo ND-Partial Remote     1\n",
      "HEDIS Data Analyst                                                1\n",
      "Software Quality Engineer (Remote)                                1\n",
      "NodeJS Developer (Electron)                                       1\n",
      "Name: Job, Length: 757, dtype: int64\n"
     ]
    }
   ],
   "source": [
    "print(df['Job'].value_counts())"
   ]
  },
  {
   "cell_type": "code",
   "execution_count": 224,
   "id": "1801425a",
   "metadata": {},
   "outputs": [],
   "source": [
    "def title_simplifier(title):\n",
    "    if 'data scientist' in title.lower():\n",
    "        return 'Data Scientist'\n",
    "    elif 'AI ' in title.upper() or 'artificial intelligence' in title.lower():\n",
    "        return 'Artificial Intelligence'\n",
    "    elif 'analyst' in title.lower():\n",
    "        return 'Analyst'\n",
    "    elif 'cloud' in title.lower():\n",
    "        return 'Cloud Engineer'\n",
    "    elif 'security' in title.lower():\n",
    "        return 'Security Engineer'\n",
    "    elif 'IT ' in title.upper():\n",
    "        return 'IT Engineer'\n",
    "    elif 'quality' in title.lower():\n",
    "        return 'Quality Assurance Engineer'\n",
    "    elif 'web' in title.lower():\n",
    "        return 'Web Developer'\n",
    "    elif 'software engineer' in title.lower():\n",
    "        return 'Software Engineer'\n",
    "    elif 'software developer' in title.lower() or 'developer' in title.lower():\n",
    "        return 'Software Developer'\n",
    "    elif 'data engineer' in title.lower():\n",
    "        return 'Data Engineer'\n",
    "    elif 'manager' in title.lower():\n",
    "        return 'Manager'\n",
    "    elif 'admin' in title.lower():\n",
    "        return 'Administrator'\n",
    "    elif 'director' in title.lower():\n",
    "        return 'Director'\n",
    "    else:\n",
    "        return 'Others'\n",
    "    \n",
    "def seniority(title):\n",
    "    if 'sr' in title.lower() or 'senior' in title.lower() or 'lead' in title.lower() or 'principal' in title.lower() or 'head' in title.lower():\n",
    "        return 'senior'\n",
    "    elif 'jr' in title.lower() or 'junior' in title.lower():\n",
    "        return 'jr'\n",
    "    else:\n",
    "        return 'nan'\n",
    "    \n",
    "def location_type(title):\n",
    "    if 'remote' in title.lower():\n",
    "        return 'Remote'\n",
    "    else:\n",
    "        return 'nan'"
   ]
  },
  {
   "cell_type": "code",
   "execution_count": 225,
   "id": "969c7b02",
   "metadata": {},
   "outputs": [],
   "source": [
    "df['Job_simp'] = df['Job'].apply(title_simplifier)"
   ]
  },
  {
   "cell_type": "code",
   "execution_count": 226,
   "id": "05e91ef7",
   "metadata": {},
   "outputs": [
    {
     "data": {
      "text/plain": [
       "Others                        309\n",
       "Analyst                       218\n",
       "Software Engineer             126\n",
       "Software Developer             55\n",
       "Data Engineer                  55\n",
       "IT Engineer                    41\n",
       "Administrator                  39\n",
       "Quality Assurance Engineer     32\n",
       "Web Developer                  20\n",
       "Data Scientist                 14\n",
       "Manager                        10\n",
       "Security Engineer               9\n",
       "Artificial Intelligence         3\n",
       "Director                        2\n",
       "Cloud Engineer                  2\n",
       "Name: Job_simp, dtype: int64"
      ]
     },
     "execution_count": 226,
     "metadata": {},
     "output_type": "execute_result"
    }
   ],
   "source": [
    "df['Job_simp'].value_counts()"
   ]
  },
  {
   "cell_type": "code",
   "execution_count": 227,
   "id": "7d607cd6",
   "metadata": {},
   "outputs": [],
   "source": [
    "df['Job_seniority'] = df['Job'].apply(seniority)"
   ]
  },
  {
   "cell_type": "code",
   "execution_count": 228,
   "id": "7c0d6b6a",
   "metadata": {},
   "outputs": [
    {
     "data": {
      "text/plain": [
       "nan       838\n",
       "senior     72\n",
       "jr         25\n",
       "Name: Job_seniority, dtype: int64"
      ]
     },
     "execution_count": 228,
     "metadata": {},
     "output_type": "execute_result"
    }
   ],
   "source": [
    "df['Job_seniority'].value_counts()"
   ]
  },
  {
   "cell_type": "code",
   "execution_count": 229,
   "id": "4173a6ca",
   "metadata": {},
   "outputs": [],
   "source": [
    "df['Location_type'] = df['Job'].apply(location_type)"
   ]
  },
  {
   "cell_type": "code",
   "execution_count": 230,
   "id": "f862c871",
   "metadata": {},
   "outputs": [
    {
     "data": {
      "text/plain": [
       "nan       791\n",
       "Remote    144\n",
       "Name: Location_type, dtype: int64"
      ]
     },
     "execution_count": 230,
     "metadata": {},
     "output_type": "execute_result"
    }
   ],
   "source": [
    "df['Location_type'].value_counts()"
   ]
  },
  {
   "cell_type": "code",
   "execution_count": 231,
   "id": "573109f4",
   "metadata": {},
   "outputs": [],
   "source": [
    "def make_num(df, column, num_column):\n",
    "    df[column] = df[column].apply(lambda x: str(x).replace(', ', ','))\n",
    "    df[num_column] = df[column].apply(lambda x: len(x.split(',')))\n",
    "    \n",
    "make_num(df, 'Qualifications', 'num_Qualifications')\n",
    "make_num(df, 'Benefits', 'num_Benefits')"
   ]
  },
  {
   "cell_type": "code",
   "execution_count": 232,
   "id": "bb1a6f23",
   "metadata": {},
   "outputs": [
    {
     "data": {
      "text/plain": [
       "0       7\n",
       "1      18\n",
       "2      11\n",
       "3      12\n",
       "4       7\n",
       "       ..\n",
       "930     8\n",
       "931    14\n",
       "932    22\n",
       "933    11\n",
       "934    15\n",
       "Name: num_Qualifications, Length: 935, dtype: int64"
      ]
     },
     "execution_count": 232,
     "metadata": {},
     "output_type": "execute_result"
    }
   ],
   "source": [
    "df['num_Qualifications']"
   ]
  },
  {
   "cell_type": "code",
   "execution_count": 233,
   "id": "adf74858",
   "metadata": {},
   "outputs": [
    {
     "data": {
      "text/plain": [
       "0       4\n",
       "1       6\n",
       "2       1\n",
       "3       5\n",
       "4       1\n",
       "       ..\n",
       "930     1\n",
       "931     5\n",
       "932    10\n",
       "933     1\n",
       "934     1\n",
       "Name: num_Benefits, Length: 935, dtype: int64"
      ]
     },
     "execution_count": 233,
     "metadata": {},
     "output_type": "execute_result"
    }
   ],
   "source": [
    "df['num_Benefits']"
   ]
  },
  {
   "cell_type": "code",
   "execution_count": 264,
   "id": "f1749104",
   "metadata": {},
   "outputs": [],
   "source": [
    "qualifications = pd.Series([str])\n",
    "benefits = pd.Series([str])\n",
    "def series(series_name, column, num_column):\n",
    "    for i in range(0, len(df)):\n",
    "        for j in range(0, int(df[num_column][i])):\n",
    "            item = df[column][i].split(',')[j].lower()\n",
    "            if str(item) in str(series_name[-j-1:]):\n",
    "                continue\n",
    "            else:\n",
    "                series_name.loc[len(series_name)] = str(item)\n",
    "            \n",
    "series(qualifications, 'Qualifications', 'num_Qualifications')\n",
    "series(benefits, 'Benefits', 'num_Benefits')"
   ]
  },
  {
   "cell_type": "code",
   "execution_count": 265,
   "id": "7a4609b7",
   "metadata": {
    "scrolled": true
   },
   "outputs": [
    {
     "data": {
      "text/plain": [
       "0               <class 'str'>\n",
       "1                       mcitp\n",
       "2            computer science\n",
       "3                         mcp\n",
       "4                        mcse\n",
       "                 ...         \n",
       "12406    computer engineering\n",
       "12407               scripting\n",
       "12408                  vue.js\n",
       "12409    communication skills\n",
       "12410                   html5\n",
       "Length: 12411, dtype: object"
      ]
     },
     "execution_count": 265,
     "metadata": {},
     "output_type": "execute_result"
    }
   ],
   "source": [
    "qualifications"
   ]
  },
  {
   "cell_type": "code",
   "execution_count": 266,
   "id": "2596a6b5",
   "metadata": {},
   "outputs": [
    {
     "data": {
      "text/plain": [
       "bachelor's degree        781\n",
       "computer science         755\n",
       "communication skills     380\n",
       "analysis skills          206\n",
       "sql                      199\n",
       "                        ... \n",
       "aerospace engineering      1\n",
       "photo editing              1\n",
       "graphic design             1\n",
       "color theory               1\n",
       "lending                    1\n",
       "Length: 880, dtype: int64"
      ]
     },
     "execution_count": 266,
     "metadata": {},
     "output_type": "execute_result"
    }
   ],
   "source": [
    "qualifications.value_counts()"
   ]
  },
  {
   "cell_type": "code",
   "execution_count": 267,
   "id": "83809b90",
   "metadata": {},
   "outputs": [
    {
     "data": {
      "text/plain": [
       "health insurance               488\n",
       "dental insurance               413\n",
       "401(k)                         365\n",
       "paid time off                  336\n",
       "vision insurance               331\n",
       "                              ... \n",
       "457(b)                           1\n",
       "company car                      1\n",
       "uniform allowance                1\n",
       "meals & incidentals stipend      1\n",
       "401(k) 6% match                  1\n",
       "Length: 76, dtype: int64"
      ]
     },
     "execution_count": 267,
     "metadata": {},
     "output_type": "execute_result"
    }
   ],
   "source": [
    "benefits.value_counts()"
   ]
  },
  {
   "cell_type": "code",
   "execution_count": 268,
   "id": "7586b6e4",
   "metadata": {},
   "outputs": [
    {
     "data": {
      "text/plain": [
       "0               <class 'str'>\n",
       "1            health insurance\n",
       "2            dental insurance\n",
       "3            vision insurance\n",
       "4              life insurance\n",
       "                ...          \n",
       "4055    tuition reimbursement\n",
       "4056         vision insurance\n",
       "4057           life insurance\n",
       "4058                      nan\n",
       "4059        flexible schedule\n",
       "Length: 4060, dtype: object"
      ]
     },
     "execution_count": 268,
     "metadata": {},
     "output_type": "execute_result"
    }
   ],
   "source": [
    "benefits"
   ]
  },
  {
   "cell_type": "code",
   "execution_count": null,
   "id": "f671fd1c",
   "metadata": {},
   "outputs": [],
   "source": []
  }
 ],
 "metadata": {
  "kernelspec": {
   "display_name": "Python 3 (ipykernel)",
   "language": "python",
   "name": "python3"
  },
  "language_info": {
   "codemirror_mode": {
    "name": "ipython",
    "version": 3
   },
   "file_extension": ".py",
   "mimetype": "text/x-python",
   "name": "python",
   "nbconvert_exporter": "python",
   "pygments_lexer": "ipython3",
   "version": "3.10.9"
  }
 },
 "nbformat": 4,
 "nbformat_minor": 5
}
