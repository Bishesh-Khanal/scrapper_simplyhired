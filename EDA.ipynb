{
 "cells": [
  {
   "cell_type": "code",
   "execution_count": 1,
   "id": "db610dd9",
   "metadata": {},
   "outputs": [],
   "source": [
    "import pandas as pd\n",
    "import matplotlib.pyplot as plt\n",
    "import seaborn as sns"
   ]
  },
  {
   "cell_type": "code",
   "execution_count": 2,
   "id": "31d64e91",
   "metadata": {},
   "outputs": [],
   "source": [
    "df = pd.read_csv('jobs_cleaned.csv')"
   ]
  },
  {
   "cell_type": "code",
   "execution_count": 3,
   "id": "edaefe98",
   "metadata": {},
   "outputs": [],
   "source": [
    "del df['Unnamed: 0']"
   ]
  },
  {
   "cell_type": "code",
   "execution_count": 4,
   "id": "1a4997b3",
   "metadata": {},
   "outputs": [
    {
     "data": {
      "text/html": [
       "<div>\n",
       "<style scoped>\n",
       "    .dataframe tbody tr th:only-of-type {\n",
       "        vertical-align: middle;\n",
       "    }\n",
       "\n",
       "    .dataframe tbody tr th {\n",
       "        vertical-align: top;\n",
       "    }\n",
       "\n",
       "    .dataframe thead th {\n",
       "        text-align: right;\n",
       "    }\n",
       "</style>\n",
       "<table border=\"1\" class=\"dataframe\">\n",
       "  <thead>\n",
       "    <tr style=\"text-align: right;\">\n",
       "      <th></th>\n",
       "      <th>Job</th>\n",
       "      <th>Salary_Begin</th>\n",
       "      <th>Salary_End</th>\n",
       "      <th>Hourly</th>\n",
       "      <th>Monthly</th>\n",
       "      <th>Yearly</th>\n",
       "      <th>Company</th>\n",
       "      <th>Rating</th>\n",
       "      <th>Posted_Date</th>\n",
       "      <th>Posted_Month</th>\n",
       "      <th>Type</th>\n",
       "      <th>Benefits</th>\n",
       "      <th>Qualifications</th>\n",
       "      <th>Job Link</th>\n",
       "    </tr>\n",
       "  </thead>\n",
       "  <tbody>\n",
       "    <tr>\n",
       "      <th>0</th>\n",
       "      <td>21 - Desktop Support Technician</td>\n",
       "      <td>16.0</td>\n",
       "      <td>39.0</td>\n",
       "      <td>1.0</td>\n",
       "      <td>0.0</td>\n",
       "      <td>0.0</td>\n",
       "      <td>PayPal</td>\n",
       "      <td>3.9</td>\n",
       "      <td>26.0</td>\n",
       "      <td>9.0</td>\n",
       "      <td>Full-time</td>\n",
       "      <td>Health insurance, Dental insurance, Vision ins...</td>\n",
       "      <td>MCITP, Computer Science, MCP, MCSE, Bachelor's...</td>\n",
       "      <td>https://www.simplyhired.com/job/pE0v8mYHrd0RXV...</td>\n",
       "    </tr>\n",
       "    <tr>\n",
       "      <th>1</th>\n",
       "      <td>Operations Associate (entry-level)</td>\n",
       "      <td>60000.0</td>\n",
       "      <td>80000.0</td>\n",
       "      <td>0.0</td>\n",
       "      <td>0.0</td>\n",
       "      <td>1.0</td>\n",
       "      <td>Databento</td>\n",
       "      <td>NaN</td>\n",
       "      <td>NaN</td>\n",
       "      <td>NaN</td>\n",
       "      <td>NaN</td>\n",
       "      <td>Disability insurance, Health insurance, Dental...</td>\n",
       "      <td>Lever, Sales, Marketing, Writing skills, ATS, ...</td>\n",
       "      <td>https://www.simplyhired.com/job/UhRG9kuufwPfvq...</td>\n",
       "    </tr>\n",
       "    <tr>\n",
       "      <th>2</th>\n",
       "      <td>IT Helpdesk Remote Support; Support Specialist I</td>\n",
       "      <td>35100.0</td>\n",
       "      <td>44500.0</td>\n",
       "      <td>0.0</td>\n",
       "      <td>0.0</td>\n",
       "      <td>1.0</td>\n",
       "      <td>Liberty University</td>\n",
       "      <td>3.8</td>\n",
       "      <td>NaN</td>\n",
       "      <td>NaN</td>\n",
       "      <td>Full-time</td>\n",
       "      <td>NaN</td>\n",
       "      <td>Microsoft Powerpoint, Microsoft Word, Computer...</td>\n",
       "      <td>https://www.simplyhired.com/job/G03Xkf3I0D3Xng...</td>\n",
       "    </tr>\n",
       "    <tr>\n",
       "      <th>3</th>\n",
       "      <td>IT Support Specialist II - $5000 - Remote</td>\n",
       "      <td>NaN</td>\n",
       "      <td>5000.0</td>\n",
       "      <td>0.0</td>\n",
       "      <td>1.0</td>\n",
       "      <td>0.0</td>\n",
       "      <td>Gold Alliance</td>\n",
       "      <td>4.7</td>\n",
       "      <td>4.0</td>\n",
       "      <td>10.0</td>\n",
       "      <td>Full-time</td>\n",
       "      <td>Health insurance, 401(k), Paid time off, On-th...</td>\n",
       "      <td>Azure, Management, Computer Science, Software ...</td>\n",
       "      <td>https://www.simplyhired.com/job/5wPI9EftH0tZxN...</td>\n",
       "    </tr>\n",
       "    <tr>\n",
       "      <th>4</th>\n",
       "      <td>IT Help Desk Technician</td>\n",
       "      <td>41700.0</td>\n",
       "      <td>52800.0</td>\n",
       "      <td>0.0</td>\n",
       "      <td>0.0</td>\n",
       "      <td>1.0</td>\n",
       "      <td>Advanced Computer Solutions</td>\n",
       "      <td>5.0</td>\n",
       "      <td>NaN</td>\n",
       "      <td>NaN</td>\n",
       "      <td>Full-time</td>\n",
       "      <td>NaN</td>\n",
       "      <td>Software troubleshooting, Bachelor of Science,...</td>\n",
       "      <td>https://www.simplyhired.com/job/9kinGpt9ZFmjYb...</td>\n",
       "    </tr>\n",
       "    <tr>\n",
       "      <th>...</th>\n",
       "      <td>...</td>\n",
       "      <td>...</td>\n",
       "      <td>...</td>\n",
       "      <td>...</td>\n",
       "      <td>...</td>\n",
       "      <td>...</td>\n",
       "      <td>...</td>\n",
       "      <td>...</td>\n",
       "      <td>...</td>\n",
       "      <td>...</td>\n",
       "      <td>...</td>\n",
       "      <td>...</td>\n",
       "      <td>...</td>\n",
       "      <td>...</td>\n",
       "    </tr>\n",
       "    <tr>\n",
       "      <th>930</th>\n",
       "      <td>Software Engineer</td>\n",
       "      <td>107000.0</td>\n",
       "      <td>136000.0</td>\n",
       "      <td>0.0</td>\n",
       "      <td>0.0</td>\n",
       "      <td>1.0</td>\n",
       "      <td>Caterpillar</td>\n",
       "      <td>3.8</td>\n",
       "      <td>NaN</td>\n",
       "      <td>NaN</td>\n",
       "      <td>Full-time</td>\n",
       "      <td>Work from home</td>\n",
       "      <td>Java, Master's degree, Bachelor's degree, Java...</td>\n",
       "      <td>https://www.simplyhired.com/job/wORmIblVsfINSg...</td>\n",
       "    </tr>\n",
       "    <tr>\n",
       "      <th>931</th>\n",
       "      <td>Data &amp; Analytics Consultant - Qlik/Microsoft P...</td>\n",
       "      <td>94900.0</td>\n",
       "      <td>120000.0</td>\n",
       "      <td>0.0</td>\n",
       "      <td>0.0</td>\n",
       "      <td>1.0</td>\n",
       "      <td>InOutsource LLC</td>\n",
       "      <td>3.0</td>\n",
       "      <td>NaN</td>\n",
       "      <td>NaN</td>\n",
       "      <td>NaN</td>\n",
       "      <td>Disability insurance, Health insurance, 401(k)...</td>\n",
       "      <td>RESTful API, Relational databases, Microsoft O...</td>\n",
       "      <td>https://www.simplyhired.com/job/mbvwkfrSSFPiJF...</td>\n",
       "    </tr>\n",
       "    <tr>\n",
       "      <th>932</th>\n",
       "      <td>Technical Data Owner</td>\n",
       "      <td>82400.0</td>\n",
       "      <td>104000.0</td>\n",
       "      <td>0.0</td>\n",
       "      <td>0.0</td>\n",
       "      <td>1.0</td>\n",
       "      <td>Step Up For Students</td>\n",
       "      <td>3.5</td>\n",
       "      <td>NaN</td>\n",
       "      <td>NaN</td>\n",
       "      <td>Full-time</td>\n",
       "      <td>Health savings account, Disability insurance, ...</td>\n",
       "      <td>Microsoft Powerpoint, Microsoft Word, Computer...</td>\n",
       "      <td>https://www.simplyhired.com/job/9ZfbJBwL8amjdw...</td>\n",
       "    </tr>\n",
       "    <tr>\n",
       "      <th>933</th>\n",
       "      <td>Business Analyst</td>\n",
       "      <td>87700.0</td>\n",
       "      <td>111000.0</td>\n",
       "      <td>0.0</td>\n",
       "      <td>0.0</td>\n",
       "      <td>1.0</td>\n",
       "      <td>SunStream Business Services</td>\n",
       "      <td>1.0</td>\n",
       "      <td>NaN</td>\n",
       "      <td>NaN</td>\n",
       "      <td>Full-time</td>\n",
       "      <td>NaN</td>\n",
       "      <td>Computer Science, 5 years, Writing skills, Bus...</td>\n",
       "      <td>https://www.simplyhired.com/job/Z4oJEFMmwpgClW...</td>\n",
       "    </tr>\n",
       "    <tr>\n",
       "      <th>934</th>\n",
       "      <td>NodeJS Developer (Electron)</td>\n",
       "      <td>54.0</td>\n",
       "      <td>57.0</td>\n",
       "      <td>1.0</td>\n",
       "      <td>0.0</td>\n",
       "      <td>0.0</td>\n",
       "      <td>Alderon Games</td>\n",
       "      <td>NaN</td>\n",
       "      <td>NaN</td>\n",
       "      <td>NaN</td>\n",
       "      <td>Contract</td>\n",
       "      <td>Flexible schedule</td>\n",
       "      <td>Computer science, Node.js, Computer Science, C...</td>\n",
       "      <td>https://www.simplyhired.com/job/v3-rTTCA2G5Qo2...</td>\n",
       "    </tr>\n",
       "  </tbody>\n",
       "</table>\n",
       "<p>935 rows × 14 columns</p>\n",
       "</div>"
      ],
      "text/plain": [
       "                                                   Job  Salary_Begin  \\\n",
       "0                      21 - Desktop Support Technician          16.0   \n",
       "1                   Operations Associate (entry-level)       60000.0   \n",
       "2     IT Helpdesk Remote Support; Support Specialist I       35100.0   \n",
       "3            IT Support Specialist II - $5000 - Remote           NaN   \n",
       "4                              IT Help Desk Technician       41700.0   \n",
       "..                                                 ...           ...   \n",
       "930                                  Software Engineer      107000.0   \n",
       "931  Data & Analytics Consultant - Qlik/Microsoft P...       94900.0   \n",
       "932                               Technical Data Owner       82400.0   \n",
       "933                                   Business Analyst       87700.0   \n",
       "934                        NodeJS Developer (Electron)          54.0   \n",
       "\n",
       "     Salary_End  Hourly  Monthly  Yearly                      Company  Rating  \\\n",
       "0          39.0     1.0      0.0     0.0                       PayPal     3.9   \n",
       "1       80000.0     0.0      0.0     1.0                    Databento     NaN   \n",
       "2       44500.0     0.0      0.0     1.0           Liberty University     3.8   \n",
       "3        5000.0     0.0      1.0     0.0                Gold Alliance     4.7   \n",
       "4       52800.0     0.0      0.0     1.0  Advanced Computer Solutions     5.0   \n",
       "..          ...     ...      ...     ...                          ...     ...   \n",
       "930    136000.0     0.0      0.0     1.0                  Caterpillar     3.8   \n",
       "931    120000.0     0.0      0.0     1.0              InOutsource LLC     3.0   \n",
       "932    104000.0     0.0      0.0     1.0         Step Up For Students     3.5   \n",
       "933    111000.0     0.0      0.0     1.0  SunStream Business Services     1.0   \n",
       "934        57.0     1.0      0.0     0.0                Alderon Games     NaN   \n",
       "\n",
       "     Posted_Date  Posted_Month       Type  \\\n",
       "0           26.0           9.0  Full-time   \n",
       "1            NaN           NaN        NaN   \n",
       "2            NaN           NaN  Full-time   \n",
       "3            4.0          10.0  Full-time   \n",
       "4            NaN           NaN  Full-time   \n",
       "..           ...           ...        ...   \n",
       "930          NaN           NaN  Full-time   \n",
       "931          NaN           NaN        NaN   \n",
       "932          NaN           NaN  Full-time   \n",
       "933          NaN           NaN  Full-time   \n",
       "934          NaN           NaN   Contract   \n",
       "\n",
       "                                              Benefits  \\\n",
       "0    Health insurance, Dental insurance, Vision ins...   \n",
       "1    Disability insurance, Health insurance, Dental...   \n",
       "2                                                  NaN   \n",
       "3    Health insurance, 401(k), Paid time off, On-th...   \n",
       "4                                                  NaN   \n",
       "..                                                 ...   \n",
       "930                                     Work from home   \n",
       "931  Disability insurance, Health insurance, 401(k)...   \n",
       "932  Health savings account, Disability insurance, ...   \n",
       "933                                                NaN   \n",
       "934                                  Flexible schedule   \n",
       "\n",
       "                                        Qualifications  \\\n",
       "0    MCITP, Computer Science, MCP, MCSE, Bachelor's...   \n",
       "1    Lever, Sales, Marketing, Writing skills, ATS, ...   \n",
       "2    Microsoft Powerpoint, Microsoft Word, Computer...   \n",
       "3    Azure, Management, Computer Science, Software ...   \n",
       "4    Software troubleshooting, Bachelor of Science,...   \n",
       "..                                                 ...   \n",
       "930  Java, Master's degree, Bachelor's degree, Java...   \n",
       "931  RESTful API, Relational databases, Microsoft O...   \n",
       "932  Microsoft Powerpoint, Microsoft Word, Computer...   \n",
       "933  Computer Science, 5 years, Writing skills, Bus...   \n",
       "934  Computer science, Node.js, Computer Science, C...   \n",
       "\n",
       "                                              Job Link  \n",
       "0    https://www.simplyhired.com/job/pE0v8mYHrd0RXV...  \n",
       "1    https://www.simplyhired.com/job/UhRG9kuufwPfvq...  \n",
       "2    https://www.simplyhired.com/job/G03Xkf3I0D3Xng...  \n",
       "3    https://www.simplyhired.com/job/5wPI9EftH0tZxN...  \n",
       "4    https://www.simplyhired.com/job/9kinGpt9ZFmjYb...  \n",
       "..                                                 ...  \n",
       "930  https://www.simplyhired.com/job/wORmIblVsfINSg...  \n",
       "931  https://www.simplyhired.com/job/mbvwkfrSSFPiJF...  \n",
       "932  https://www.simplyhired.com/job/9ZfbJBwL8amjdw...  \n",
       "933  https://www.simplyhired.com/job/Z4oJEFMmwpgClW...  \n",
       "934  https://www.simplyhired.com/job/v3-rTTCA2G5Qo2...  \n",
       "\n",
       "[935 rows x 14 columns]"
      ]
     },
     "execution_count": 4,
     "metadata": {},
     "output_type": "execute_result"
    }
   ],
   "source": [
    "df"
   ]
  },
  {
   "cell_type": "code",
   "execution_count": 5,
   "id": "87aeca29",
   "metadata": {
    "scrolled": false
   },
   "outputs": [
    {
     "name": "stdout",
     "output_type": "stream",
     "text": [
      "Software Engineer                                                32\n",
      "Data Engineer                                                    25\n",
      "Data Analyst                                                     13\n",
      "Software Developer                                               10\n",
      "Quality Assurance Engineer                                        8\n",
      "                                                                 ..\n",
      "Integration Analyst                                               1\n",
      "Part-Time Student-Product Engineering-Fargo ND-Partial Remote     1\n",
      "HEDIS Data Analyst                                                1\n",
      "Software Quality Engineer (Remote)                                1\n",
      "NodeJS Developer (Electron)                                       1\n",
      "Name: Job, Length: 757, dtype: int64\n"
     ]
    }
   ],
   "source": [
    "print(df['Job'].value_counts())"
   ]
  },
  {
   "cell_type": "code",
   "execution_count": 6,
   "id": "1801425a",
   "metadata": {},
   "outputs": [],
   "source": [
    "def title_simplifier(title):\n",
    "    if 'data scientist' in title.lower():\n",
    "        return 'Data Scientist'\n",
    "    elif 'AI ' in title.upper() or 'artificial intelligence' in title.lower():\n",
    "        return 'Artificial Intelligence'\n",
    "    elif 'analyst' in title.lower():\n",
    "        return 'Analyst'\n",
    "    elif 'cloud' in title.lower():\n",
    "        return 'Cloud Engineer'\n",
    "    elif 'security' in title.lower():\n",
    "        return 'Security Engineer'\n",
    "    elif 'IT ' in title.upper():\n",
    "        return 'IT Engineer'\n",
    "    elif 'quality' in title.lower():\n",
    "        return 'Quality Assurance Engineer'\n",
    "    elif 'web' in title.lower():\n",
    "        return 'Web Developer'\n",
    "    elif 'software engineer' in title.lower():\n",
    "        return 'Software Engineer'\n",
    "    elif 'software developer' in title.lower() or 'developer' in title.lower():\n",
    "        return 'Software Developer'\n",
    "    elif 'data engineer' in title.lower():\n",
    "        return 'Data Engineer'\n",
    "    elif 'manager' in title.lower():\n",
    "        return 'Manager'\n",
    "    elif 'admin' in title.lower():\n",
    "        return 'Administrator'\n",
    "    elif 'director' in title.lower():\n",
    "        return 'Director'\n",
    "    else:\n",
    "        return 'Others'\n",
    "    \n",
    "def seniority(title):\n",
    "    if 'sr' in title.lower() or 'senior' in title.lower() or 'lead' in title.lower() or 'principal' in title.lower() or 'head' in title.lower() or 'expert' in title.lower():\n",
    "        return 'senior'\n",
    "    elif 'jr' in title.lower() or 'junior' in title.lower() or 'entry' in title.lower():\n",
    "        return 'junior'\n",
    "    else:\n",
    "        return float('nan')\n",
    "    \n",
    "def location_type(title):\n",
    "    if 'remote' in title.lower():\n",
    "        return 'Remote'\n",
    "    else:\n",
    "        return 'Others'"
   ]
  },
  {
   "cell_type": "code",
   "execution_count": 7,
   "id": "969c7b02",
   "metadata": {},
   "outputs": [],
   "source": [
    "df['Job_simp'] = df['Job'].apply(title_simplifier)"
   ]
  },
  {
   "cell_type": "code",
   "execution_count": 8,
   "id": "05e91ef7",
   "metadata": {},
   "outputs": [
    {
     "data": {
      "text/plain": [
       "Others                        309\n",
       "Analyst                       218\n",
       "Software Engineer             126\n",
       "Software Developer             55\n",
       "Data Engineer                  55\n",
       "IT Engineer                    41\n",
       "Administrator                  39\n",
       "Quality Assurance Engineer     32\n",
       "Web Developer                  20\n",
       "Data Scientist                 14\n",
       "Manager                        10\n",
       "Security Engineer               9\n",
       "Artificial Intelligence         3\n",
       "Director                        2\n",
       "Cloud Engineer                  2\n",
       "Name: Job_simp, dtype: int64"
      ]
     },
     "execution_count": 8,
     "metadata": {},
     "output_type": "execute_result"
    }
   ],
   "source": [
    "df['Job_simp'].value_counts()"
   ]
  },
  {
   "cell_type": "code",
   "execution_count": 9,
   "id": "7d607cd6",
   "metadata": {},
   "outputs": [],
   "source": [
    "df['Job_seniority'] = df['Job'].apply(seniority)"
   ]
  },
  {
   "cell_type": "code",
   "execution_count": 10,
   "id": "7c0d6b6a",
   "metadata": {},
   "outputs": [
    {
     "data": {
      "text/plain": [
       "senior    80\n",
       "junior    33\n",
       "Name: Job_seniority, dtype: int64"
      ]
     },
     "execution_count": 10,
     "metadata": {},
     "output_type": "execute_result"
    }
   ],
   "source": [
    "df['Job_seniority'].value_counts()"
   ]
  },
  {
   "cell_type": "code",
   "execution_count": 11,
   "id": "4173a6ca",
   "metadata": {},
   "outputs": [],
   "source": [
    "df['Location_type'] = df['Job'].apply(location_type)"
   ]
  },
  {
   "cell_type": "code",
   "execution_count": 12,
   "id": "f862c871",
   "metadata": {},
   "outputs": [
    {
     "data": {
      "text/plain": [
       "Others    791\n",
       "Remote    144\n",
       "Name: Location_type, dtype: int64"
      ]
     },
     "execution_count": 12,
     "metadata": {},
     "output_type": "execute_result"
    }
   ],
   "source": [
    "df.Location_type.value_counts()"
   ]
  },
  {
   "cell_type": "code",
   "execution_count": 13,
   "id": "8d2ca3b8",
   "metadata": {},
   "outputs": [],
   "source": [
    "df['Qualifications'] = df['Qualifications'].apply(lambda x: str(x))\n",
    "df['Benefits'] = df['Benefits'].apply(lambda x: str(x))\n",
    "df['Qualifications'] = df['Qualifications'].apply(lambda x: x.replace(' ', '').lower())\n",
    "df['Benefits'] = df['Benefits'].apply(lambda x: x.replace(' ', '').lower())"
   ]
  },
  {
   "cell_type": "code",
   "execution_count": 14,
   "id": "2fe94ed9",
   "metadata": {},
   "outputs": [],
   "source": [
    "def remove_duplicates(string):\n",
    "    elements = [x.strip() for x in string.split(',')]\n",
    "    unique_elements = list(set(elements))\n",
    "    return ','.join(unique_elements)\n",
    "\n",
    "df['Qualifications'] = df['Qualifications'].apply(remove_duplicates)\n",
    "df['Benefits'] = df['Benefits'].apply(remove_duplicates)"
   ]
  },
  {
   "cell_type": "code",
   "execution_count": 15,
   "id": "573109f4",
   "metadata": {},
   "outputs": [],
   "source": [
    "def make_num(df, column, num_column):\n",
    "    df[num_column] = df[column].apply(lambda x: len(x.split(',')))\n",
    "    \n",
    "make_num(df, 'Qualifications', 'num_Qualifications')\n",
    "make_num(df, 'Benefits', 'num_Benefits')"
   ]
  },
  {
   "cell_type": "code",
   "execution_count": 16,
   "id": "f1749104",
   "metadata": {},
   "outputs": [
    {
     "name": "stderr",
     "output_type": "stream",
     "text": [
      "C:\\Users\\bishe\\AppData\\Local\\Temp\\ipykernel_20012\\2920130941.py:1: FutureWarning: The default dtype for empty Series will be 'object' instead of 'float64' in a future version. Specify a dtype explicitly to silence this warning.\n",
      "  qualifications = pd.Series([])\n",
      "C:\\Users\\bishe\\AppData\\Local\\Temp\\ipykernel_20012\\2920130941.py:2: FutureWarning: The default dtype for empty Series will be 'object' instead of 'float64' in a future version. Specify a dtype explicitly to silence this warning.\n",
      "  benefits = pd.Series([])\n"
     ]
    }
   ],
   "source": [
    "qualifications = pd.Series([])\n",
    "benefits = pd.Series([])\n",
    "def series(series_name, column, num_column):\n",
    "    for i in range(0, len(df)):\n",
    "        for j in range(0, int(df[num_column][i])):\n",
    "            item = df[column][i].split(',')[j]\n",
    "            series_name.loc[len(series_name)] = str(item)   \n",
    "            \n",
    "series(qualifications, 'Qualifications', 'num_Qualifications')\n",
    "series(benefits, 'Benefits', 'num_Benefits')"
   ]
  },
  {
   "cell_type": "code",
   "execution_count": 17,
   "id": "31fc7929",
   "metadata": {},
   "outputs": [],
   "source": [
    "qualifications = qualifications.apply(lambda x: str(x))\n",
    "benefits = benefits.apply(lambda x: str(x))"
   ]
  },
  {
   "cell_type": "code",
   "execution_count": 18,
   "id": "7a4609b7",
   "metadata": {
    "scrolled": true
   },
   "outputs": [
    {
     "name": "stdout",
     "output_type": "stream",
     "text": [
      "13160\n"
     ]
    },
    {
     "data": {
      "text/plain": [
       "0            computerscience\n",
       "1                         it\n",
       "2                      mcitp\n",
       "3                       mcse\n",
       "4                     2years\n",
       "                ...         \n",
       "13155                english\n",
       "13156                    git\n",
       "13157       bachelor'sdegree\n",
       "13158    computerengineering\n",
       "13159                  html5\n",
       "Length: 13160, dtype: object"
      ]
     },
     "execution_count": 18,
     "metadata": {},
     "output_type": "execute_result"
    }
   ],
   "source": [
    "print(df['num_Qualifications'].sum())\n",
    "qualifications"
   ]
  },
  {
   "cell_type": "code",
   "execution_count": 19,
   "id": "2596a6b5",
   "metadata": {},
   "outputs": [
    {
     "data": {
      "text/plain": [
       "bachelor'sdegree          815\n",
       "computerscience           755\n",
       "communicationskills       524\n",
       "sql                       294\n",
       "analysisskills            231\n",
       "                         ... \n",
       "earnedvaluemanagement       1\n",
       "burpsuite                   1\n",
       "employment&laborlaw         1\n",
       "relationshipmanagement      1\n",
       "lending                     1\n",
       "Length: 882, dtype: int64"
      ]
     },
     "execution_count": 19,
     "metadata": {},
     "output_type": "execute_result"
    }
   ],
   "source": [
    "qualifications.value_counts()"
   ]
  },
  {
   "cell_type": "code",
   "execution_count": 20,
   "id": "83809b90",
   "metadata": {},
   "outputs": [
    {
     "data": {
      "text/plain": [
       "healthinsurance               495\n",
       "401(k)                        428\n",
       "dentalinsurance               417\n",
       "visioninsurance               385\n",
       "paidtimeoff                   370\n",
       "                             ... \n",
       "dependentcarereimbursement      1\n",
       "paidjuryduty                    1\n",
       "financialplanningservices       1\n",
       "companycar                      1\n",
       "401(k)6%match                   1\n",
       "Length: 75, dtype: int64"
      ]
     },
     "execution_count": 20,
     "metadata": {},
     "output_type": "execute_result"
    }
   ],
   "source": [
    "benefits.value_counts()"
   ]
  },
  {
   "cell_type": "code",
   "execution_count": 21,
   "id": "7586b6e4",
   "metadata": {},
   "outputs": [
    {
     "name": "stdout",
     "output_type": "stream",
     "text": [
      "4532\n"
     ]
    },
    {
     "data": {
      "text/plain": [
       "0             lifeinsurance\n",
       "1           healthinsurance\n",
       "2           dentalinsurance\n",
       "3           visioninsurance\n",
       "4       disabilityinsurance\n",
       "               ...         \n",
       "4527         401(k)matching\n",
       "4528        healthinsurance\n",
       "4529                 401(k)\n",
       "4530                    nan\n",
       "4531       flexibleschedule\n",
       "Length: 4532, dtype: object"
      ]
     },
     "execution_count": 21,
     "metadata": {},
     "output_type": "execute_result"
    }
   ],
   "source": [
    "print(df['num_Benefits'].sum())\n",
    "benefits"
   ]
  },
  {
   "cell_type": "code",
   "execution_count": 22,
   "id": "88a6fe45",
   "metadata": {},
   "outputs": [],
   "source": [
    "#Transformed the salary into yearly and calculated the average salary\n",
    "df['Salary_Begin'] = df.apply(lambda x: x.Salary_Begin*2000.0 if x.Hourly == 1.0 else x.Salary_Begin*12.0 if x.Monthly == 1.0 else x.Salary_Begin, axis = 1)\n",
    "df['Salary_End'] = df.apply(lambda x: x.Salary_End*2000.0 if x.Hourly == 1.0 else x.Salary_End*12.0 if x.Monthly == 1.0 else x.Salary_End, axis = 1)\n",
    "df['Salary_Average'] = df.apply(lambda x: (x.Salary_Begin + x.Salary_End)/2.0 if x.Salary_Begin != float('nan') and x.Salary_End != float('nan') else float('nan'), axis = 1)"
   ]
  },
  {
   "cell_type": "code",
   "execution_count": 23,
   "id": "35307542",
   "metadata": {},
   "outputs": [
    {
     "data": {
      "text/html": [
       "<div>\n",
       "<style scoped>\n",
       "    .dataframe tbody tr th:only-of-type {\n",
       "        vertical-align: middle;\n",
       "    }\n",
       "\n",
       "    .dataframe tbody tr th {\n",
       "        vertical-align: top;\n",
       "    }\n",
       "\n",
       "    .dataframe thead th {\n",
       "        text-align: right;\n",
       "    }\n",
       "</style>\n",
       "<table border=\"1\" class=\"dataframe\">\n",
       "  <thead>\n",
       "    <tr style=\"text-align: right;\">\n",
       "      <th></th>\n",
       "      <th>Salary_Begin</th>\n",
       "      <th>Salary_End</th>\n",
       "      <th>Salary_Average</th>\n",
       "    </tr>\n",
       "  </thead>\n",
       "  <tbody>\n",
       "    <tr>\n",
       "      <th>0</th>\n",
       "      <td>32000.0</td>\n",
       "      <td>78000.0</td>\n",
       "      <td>55000.0</td>\n",
       "    </tr>\n",
       "    <tr>\n",
       "      <th>1</th>\n",
       "      <td>60000.0</td>\n",
       "      <td>80000.0</td>\n",
       "      <td>70000.0</td>\n",
       "    </tr>\n",
       "    <tr>\n",
       "      <th>2</th>\n",
       "      <td>35100.0</td>\n",
       "      <td>44500.0</td>\n",
       "      <td>39800.0</td>\n",
       "    </tr>\n",
       "    <tr>\n",
       "      <th>3</th>\n",
       "      <td>NaN</td>\n",
       "      <td>60000.0</td>\n",
       "      <td>NaN</td>\n",
       "    </tr>\n",
       "    <tr>\n",
       "      <th>4</th>\n",
       "      <td>41700.0</td>\n",
       "      <td>52800.0</td>\n",
       "      <td>47250.0</td>\n",
       "    </tr>\n",
       "    <tr>\n",
       "      <th>...</th>\n",
       "      <td>...</td>\n",
       "      <td>...</td>\n",
       "      <td>...</td>\n",
       "    </tr>\n",
       "    <tr>\n",
       "      <th>930</th>\n",
       "      <td>107000.0</td>\n",
       "      <td>136000.0</td>\n",
       "      <td>121500.0</td>\n",
       "    </tr>\n",
       "    <tr>\n",
       "      <th>931</th>\n",
       "      <td>94900.0</td>\n",
       "      <td>120000.0</td>\n",
       "      <td>107450.0</td>\n",
       "    </tr>\n",
       "    <tr>\n",
       "      <th>932</th>\n",
       "      <td>82400.0</td>\n",
       "      <td>104000.0</td>\n",
       "      <td>93200.0</td>\n",
       "    </tr>\n",
       "    <tr>\n",
       "      <th>933</th>\n",
       "      <td>87700.0</td>\n",
       "      <td>111000.0</td>\n",
       "      <td>99350.0</td>\n",
       "    </tr>\n",
       "    <tr>\n",
       "      <th>934</th>\n",
       "      <td>108000.0</td>\n",
       "      <td>114000.0</td>\n",
       "      <td>111000.0</td>\n",
       "    </tr>\n",
       "  </tbody>\n",
       "</table>\n",
       "<p>935 rows × 3 columns</p>\n",
       "</div>"
      ],
      "text/plain": [
       "     Salary_Begin  Salary_End  Salary_Average\n",
       "0         32000.0     78000.0         55000.0\n",
       "1         60000.0     80000.0         70000.0\n",
       "2         35100.0     44500.0         39800.0\n",
       "3             NaN     60000.0             NaN\n",
       "4         41700.0     52800.0         47250.0\n",
       "..            ...         ...             ...\n",
       "930      107000.0    136000.0        121500.0\n",
       "931       94900.0    120000.0        107450.0\n",
       "932       82400.0    104000.0         93200.0\n",
       "933       87700.0    111000.0         99350.0\n",
       "934      108000.0    114000.0        111000.0\n",
       "\n",
       "[935 rows x 3 columns]"
      ]
     },
     "execution_count": 23,
     "metadata": {},
     "output_type": "execute_result"
    }
   ],
   "source": [
    "df[['Salary_Begin', 'Salary_End', 'Salary_Average']]"
   ]
  },
  {
   "cell_type": "code",
   "execution_count": 24,
   "id": "f63a1b71",
   "metadata": {},
   "outputs": [
    {
     "data": {
      "text/plain": [
       "Full-time                                    589\n",
       "Contract                                      35\n",
       "Full-time, Contract                           32\n",
       "Part-time                                     17\n",
       "Part-time, Full-time                           5\n",
       "Permanent, Full-time                           4\n",
       "Temporary, Contract                            2\n",
       "Temporary                                      1\n",
       "Full-time, Apprenticeship                      1\n",
       "Part-time, Contract                            1\n",
       "Temporary, Full-time                           1\n",
       "Temporary, Part-time, Full-time, Contract      1\n",
       "Permanent, Part-time, Full-time, Contract      1\n",
       "Permanent, Full-time, Contract                 1\n",
       "Temporary, Part-time                           1\n",
       "Freelance                                      1\n",
       "Temp-to-hire, Contract                         1\n",
       "Name: Type, dtype: int64"
      ]
     },
     "execution_count": 24,
     "metadata": {},
     "output_type": "execute_result"
    }
   ],
   "source": [
    "df['Type'].value_counts()"
   ]
  },
  {
   "cell_type": "code",
   "execution_count": 25,
   "id": "9d39865c",
   "metadata": {},
   "outputs": [
    {
     "name": "stderr",
     "output_type": "stream",
     "text": [
      "C:\\Users\\bishe\\AppData\\Local\\Temp\\ipykernel_20012\\1286314707.py:4: FutureWarning: The default dtype for empty Series will be 'object' instead of 'float64' in a future version. Specify a dtype explicitly to silence this warning.\n",
      "  Type = pd.Series([])\n"
     ]
    },
    {
     "data": {
      "text/plain": [
       "Full-time         635\n",
       "nan               241\n",
       "Contract           74\n",
       "Part-time          26\n",
       "Permanent           6\n",
       "Temporary           6\n",
       "Apprenticeship      1\n",
       "Freelance           1\n",
       "Temp-to-hire        1\n",
       "dtype: int64"
      ]
     },
     "execution_count": 25,
     "metadata": {},
     "output_type": "execute_result"
    }
   ],
   "source": [
    "df['Type'] = df['Type'].apply(lambda x: str(x))\n",
    "df['Type'] = df['Type'].apply(lambda x: x.replace(', ', ','))\n",
    "make_num(df, 'Type', 'num_Type')\n",
    "Type = pd.Series([])\n",
    "series(Type, 'Type', 'num_Type')\n",
    "Type.value_counts()"
   ]
  },
  {
   "cell_type": "code",
   "execution_count": null,
   "id": "049be033",
   "metadata": {},
   "outputs": [],
   "source": []
  }
 ],
 "metadata": {
  "kernelspec": {
   "display_name": "Python 3 (ipykernel)",
   "language": "python",
   "name": "python3"
  },
  "language_info": {
   "codemirror_mode": {
    "name": "ipython",
    "version": 3
   },
   "file_extension": ".py",
   "mimetype": "text/x-python",
   "name": "python",
   "nbconvert_exporter": "python",
   "pygments_lexer": "ipython3",
   "version": "3.10.9"
  }
 },
 "nbformat": 4,
 "nbformat_minor": 5
}
